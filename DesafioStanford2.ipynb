{
  "nbformat": 4,
  "nbformat_minor": 0,
  "metadata": {
    "colab": {
      "provenance": [],
      "authorship_tag": "ABX9TyO9h2ZkSFau4vLJntqAwqp8",
      "include_colab_link": true
    },
    "kernelspec": {
      "name": "python3",
      "display_name": "Python 3"
    },
    "language_info": {
      "name": "python"
    }
  },
  "cells": [
    {
      "cell_type": "markdown",
      "metadata": {
        "id": "view-in-github",
        "colab_type": "text"
      },
      "source": [
        "<a href=\"https://colab.research.google.com/github/Duddu64/PDI/blob/main/DesafioStanford2.ipynb\" target=\"_parent\"><img src=\"https://colab.research.google.com/assets/colab-badge.svg\" alt=\"Open In Colab\"/></a>"
      ]
    },
    {
      "cell_type": "code",
      "execution_count": null,
      "metadata": {
        "colab": {
          "base_uri": "https://localhost:8080/",
          "height": 222461
        },
        "id": "zGhdo3PafUe3",
        "outputId": "78ced064-7bbf-467e-f010-932305ce50f7"
      },
      "outputs": [],
      "source": [
        "import cv2\n",
        "import numpy as np\n",
        "import matplotlib.pyplot as plt\n",
        "\n",
        "vrObj = cv2.VideoCapture('/content/surveillance.mpeg')\n",
        "\n",
        "fourcc = cv2.VideoWriter_fourcc(*'MJPG')\n",
        "vwObj = cv2.VideoWriter('/content/Background_Subtraction.avi', fourcc, 30, (640, 480))\n",
        "alpha = 0.95\n",
        "theta = 0.1\n",
        "\n",
        "ret, frame = vrObj.read()\n",
        "background = cv2.cvtColor(frame, cv2.COLOR_BGR2GRAY).astype(np.float32) / 255.0\n",
        "\n",
        "while True:\n",
        "    ret, frame = vrObj.read()\n",
        "    if not ret:\n",
        "        break\n",
        "\n",
        "    currImg = cv2.cvtColor(frame, cv2.COLOR_BGR2GRAY).astype(np.float32) / 255.0\n",
        "\n",
        "    background = alpha * background + (1 - alpha) * currImg\n",
        "\n",
        "    diffImg = np.abs(currImg - background)\n",
        "\n",
        "    threshImg = (diffImg > theta).astype(np.uint8) * 255\n",
        "\n",
        "    plt.figure(figsize=(10, 8))\n",
        "    plt.subplot(2, 2, 1), plt.imshow(currImg, cmap='gray'), plt.title('New frame')\n",
        "    plt.subplot(2, 2, 2), plt.imshow(background, cmap='gray'), plt.title('Background frame')\n",
        "    plt.subplot(2, 2, 3), plt.imshow(diffImg, cmap='gray'), plt.title('Difference image')\n",
        "    plt.subplot(2, 2, 4), plt.imshow(threshImg, cmap='gray'), plt.title('Thresholded difference image')\n",
        "    plt.show()\n",
        "\n",
        "    vwObj.write(frame)\n",
        "\n",
        "vrObj.release()\n",
        "vwObj.release()\n",
        "\n",
        "cv2.imwrite('Background_Subtraction_curr.png', (currImg * 255).astype(np.uint8))\n",
        "cv2.imwrite('Background_Subtraction_background.png', (background * 255).astype(np.uint8))\n",
        "cv2.imwrite('Background_Subtraction_thresh.png', threshImg)\n"
      ]
    },
    {
      "cell_type": "code",
      "source": [],
      "metadata": {
        "id": "zNed9HStjFZ9"
      },
      "execution_count": null,
      "outputs": []
    }
  ]
}